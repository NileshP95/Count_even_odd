{
 "cells": [
  {
   "cell_type": "code",
   "execution_count": 1,
   "id": "df1eae0e",
   "metadata": {},
   "outputs": [
    {
     "name": "stdout",
     "output_type": "stream",
     "text": [
      "count of even numbers: 4\n",
      "count of odd numbers: 5\n"
     ]
    }
   ],
   "source": [
    "numbers=(1,2,3,4,5,6,7,8,9)\n",
    "even_numbers=0\n",
    "odd_numbers=0\n",
    "\n",
    "for x in numbers:\n",
    "    if not x%2:\n",
    "        even_numbers+=1\n",
    "    else:\n",
    "        odd_numbers+=1\n",
    "print(\"count of even numbers:\",even_numbers)\n",
    "print(\"count of odd numbers:\",odd_numbers)"
   ]
  },
  {
   "cell_type": "code",
   "execution_count": null,
   "id": "e13944ec",
   "metadata": {},
   "outputs": [],
   "source": []
  }
 ],
 "metadata": {
  "kernelspec": {
   "display_name": "Python 3 (ipykernel)",
   "language": "python",
   "name": "python3"
  },
  "language_info": {
   "codemirror_mode": {
    "name": "ipython",
    "version": 3
   },
   "file_extension": ".py",
   "mimetype": "text/x-python",
   "name": "python",
   "nbconvert_exporter": "python",
   "pygments_lexer": "ipython3",
   "version": "3.8.10"
  }
 },
 "nbformat": 4,
 "nbformat_minor": 5
}
